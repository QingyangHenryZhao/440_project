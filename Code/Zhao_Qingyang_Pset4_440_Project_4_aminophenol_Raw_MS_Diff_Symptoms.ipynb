{
 "cells": [
  {
   "cell_type": "code",
   "execution_count": null,
   "id": "4bb623e2",
   "metadata": {},
   "outputs": [],
   "source": [
    "# Import all possibly helpful packages\n",
    "import pandas as pd\n",
    "import scipy as sp\n",
    "from pylab import *\n",
    "import numpy as np\n",
    "from matplotlib import pyplot as plt\n",
    "import pandas as pd\n",
    "import seaborn as sns\n",
    "import collections\n",
    "from IPython.display import clear_output\n",
    "import random"
   ]
  },
  {
   "cell_type": "code",
   "execution_count": null,
   "id": "bbdd8395",
   "metadata": {},
   "outputs": [],
   "source": [
    "# Access the csv files of extracted metabolite ms data set of \n",
    "# symptoms from github repo\n",
    "df_severe_metabolite_ms = pd.read_csv (\"~/Documents/GitHub/440_project/Data/Processed_Severe_Metabolite_MS_Data.csv\")\n",
    "df_mild_metabolite_ms = pd.read_csv (\"~/Documents/GitHub/440_project/Data/Processed_Mild_Metabolite_MS_Data.csv\")\n",
    "df_asymptomatic_metabolite_ms = pd.read_csv (\"~/Documents/GitHub/440_project/Data/Processed_Asymptomatic_Metabolite_MS_Data.csv\")"
   ]
  },
  {
   "cell_type": "code",
   "execution_count": null,
   "id": "4b34329f",
   "metadata": {},
   "outputs": [],
   "source": [
    "display (df_severe_metabolite_ms)\n",
    "display (df_mild_metabolite_ms)\n",
    "display (df_asymptomatic_metabolite_ms)"
   ]
  },
  {
   "cell_type": "code",
   "execution_count": null,
   "id": "26d4f635",
   "metadata": {},
   "outputs": [],
   "source": [
    "# Function input: df of the extracted metabolite ms data set of \n",
    "# corresponding symptoms. Output: number of raw MS reads for '4-Aminophenol'\n",
    "# and the corresponding patient sample ID\n",
    "def get_4_aminophenol (df_input):\n",
    "    for a in range (len(df_input)):\n",
    "        if df_input.iloc[a,1] == '4-Aminophenol':\n",
    "            aminophenol = df_input.iloc[a,2:]\n",
    "            for b in range (len(aminophenol)):\n",
    "                aminophenol[b] = int(aminophenol[b])\n",
    "            aminophenol = np.array(aminophenol)\n",
    "    patientid = df_input.iloc[1,2:]\n",
    "#for c in range (len(df_input.columns)):\n",
    "#patientid[c] = int(patientid[c])\n",
    "    patientid = np.array(patientid)\n",
    "    return [aminophenol,patientid]"
   ]
  },
  {
   "cell_type": "code",
   "execution_count": null,
   "id": "1ac179ee",
   "metadata": {},
   "outputs": [],
   "source": [
    "# Get those information for the three symptoms\n",
    "[aminophenol_severe, severe_patient_id]= get_4_aminophenol(df_severe_metabolite_ms)\n",
    "[aminophenol_mild, mild_patient_id] = get_4_aminophenol(df_mild_metabolite_ms)\n",
    "[aminophenol_asymptomatic, asymptomatic_patient_id] = get_4_aminophenol(df_asymptomatic_metabolite_ms)"
   ]
  },
  {
   "cell_type": "code",
   "execution_count": null,
   "id": "6341d36b",
   "metadata": {},
   "outputs": [],
   "source": [
    "# Plot on different plots due to different x axis\n",
    "# (different number of patient samples in each group)\n",
    "fig1, ax1i = plt.subplots()\n",
    "fig2, ax2i = plt.subplots()\n",
    "fig3, ax3i = plt.subplots()\n",
    "\n",
    "ax1i.bar(severe_patient_id, aminophenol_severe, label='Severe Covid')\n",
    "ax2i.bar(mild_patient_id, aminophenol_mild, label='Mild Covid')\n",
    "ax3i.bar(asymptomatic_patient_id, aminophenol_asymptomatic, label='Asymptomatic Covid')\n",
    "\n",
    "ax1i.set_xlabel('Sample ID')\n",
    "ax1i.title.set_text('4-Aminophenol Level')\n",
    "ax2i.set_xlabel('Sample ID')\n",
    "ax2i.title.set_text('4-Aminophenol Level')\n",
    "ax3i.set_xlabel('Sample ID')\n",
    "ax3i.title.set_text('4-Aminophenol Level')\n",
    "\n",
    "ax1i.set(ylim=(0, 150000))\n",
    "ax2i.set(ylim=(0, 150000))\n",
    "ax3i.set(ylim=(0, 150000))\n",
    "\n",
    "ax1i.set_xticks(range(len(severe_patient_id)))\n",
    "ax1i.set_xticklabels(severe_patient_id, rotation=90, ha='right', fontsize=3)\n",
    "ax1i.tick_params(axis='x', which='major', labelsize=3)\n",
    "ax2i.set_xticks(range(len(mild_patient_id)))\n",
    "ax2i.set_xticklabels(mild_patient_id, rotation=90, ha='right', fontsize=3)\n",
    "ax2i.tick_params(axis='x', which='major', labelsize=3)\n",
    "ax3i.set_xticks(range(len(asymptomatic_patient_id)))\n",
    "ax3i.set_xticklabels(asymptomatic_patient_id, rotation=90, ha='right', fontsize=3)\n",
    "ax3i.tick_params(axis='x', which='major', labelsize=3)\n",
    "\n",
    "ax1i.legend()\n",
    "ax2i.legend()\n",
    "ax3i.legend()\n",
    "plt.show()"
   ]
  },
  {
   "cell_type": "code",
   "execution_count": null,
   "id": "5044193a",
   "metadata": {},
   "outputs": [],
   "source": [
    "fig1.savefig('./Raw_4-Aminophenol_Level_Severe_Covid.pdf', bbox_inches='tight')\n",
    "fig2.savefig('./Raw_4-Aminophenol_Level_Mild_Covid.pdf', bbox_inches='tight')\n",
    "fig3.savefig('./Raw_4-Aminophenol_Level_Asymptomatic_Covid.pdf', bbox_inches='tight')"
   ]
  },
  {
   "cell_type": "code",
   "execution_count": null,
   "id": "4fc7707f",
   "metadata": {},
   "outputs": [],
   "source": []
  }
 ],
 "metadata": {
  "kernelspec": {
   "display_name": "Python 3 (ipykernel)",
   "language": "python",
   "name": "python3"
  },
  "language_info": {
   "codemirror_mode": {
    "name": "ipython",
    "version": 3
   },
   "file_extension": ".py",
   "mimetype": "text/x-python",
   "name": "python",
   "nbconvert_exporter": "python",
   "pygments_lexer": "ipython3",
   "version": "3.9.12"
  }
 },
 "nbformat": 4,
 "nbformat_minor": 5
}
