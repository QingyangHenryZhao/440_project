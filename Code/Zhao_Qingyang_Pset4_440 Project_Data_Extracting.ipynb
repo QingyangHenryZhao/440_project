{
 "cells": [
  {
   "cell_type": "code",
   "execution_count": null,
   "id": "6e84edc2",
   "metadata": {},
   "outputs": [],
   "source": [
    "# import all possibly important packages\n",
    "import pandas as pd\n",
    "import scipy as sp\n",
    "from pylab import *\n",
    "import numpy as np\n",
    "from matplotlib import pyplot as plt\n",
    "import pandas as pd\n",
    "import seaborn as sns\n",
    "import collections\n",
    "from IPython.display import clear_output\n",
    "import random"
   ]
  },
  {
   "cell_type": "code",
   "execution_count": null,
   "id": "aff94c1c",
   "metadata": {},
   "outputs": [],
   "source": [
    "# Read the raw data csv file on mac desktop\n",
    "df_rawdata = pd.read_csv (\"~/Desktop/ST002301_AN003757 copy.csv\")\n",
    "print (df_rawdata)"
   ]
  },
  {
   "cell_type": "code",
   "execution_count": null,
   "id": "0161b55d",
   "metadata": {},
   "outputs": [],
   "source": [
    "# Two for loops to show where the two meaningful data sets start and end\n",
    "for i in range (len(df_rawdata)):\n",
    "    if df_rawdata.iloc[i,0] == 'MS_METABOLITE_DATA_START':\n",
    "        row_start = i\n",
    "    if df_rawdata.iloc[i,0] == 'MS_METABOLITE_DATA_END':\n",
    "        row_end = i\n",
    "    if df_rawdata.iloc[i,0] == 'METABOLITES_START':\n",
    "        sec_row_start = i\n",
    "    if df_rawdata.iloc[i,0] == 'METABOLITES_END':\n",
    "        sec_row_end = i\n",
    "print (row_start, row_end)\n",
    "print (sec_row_start, sec_row_end)"
   ]
  },
  {
   "cell_type": "code",
   "execution_count": null,
   "id": "17331b40",
   "metadata": {},
   "outputs": [],
   "source": [
    "# Identify the section of rows to extract for the first meaningful data piece\n",
    "# which is the MS reading of metabolites\n",
    "# store in an empty same dimension dataframe\n",
    "row_num = row_end-row_start\n",
    "column_num = len(df_rawdata.columns)\n",
    "df_metabolites_ms = pd.DataFrame(index=range(row_num),columns=range(column_num))\n",
    "count = 0\n",
    "for a in range (row_start, row_end):\n",
    "    df_metabolites_ms.iloc[count] = df_rawdata.iloc[a]\n",
    "    count = count + 1\n",
    "display(df_metabolites_ms)"
   ]
  },
  {
   "cell_type": "code",
   "execution_count": null,
   "id": "240e9ba0",
   "metadata": {},
   "outputs": [],
   "source": [
    "# Save the extracted file\n",
    "df_metabolites_ms.to_csv('Processed_Metabolite_MS_Data.csv') "
   ]
  },
  {
   "cell_type": "code",
   "execution_count": null,
   "id": "530bb6c6",
   "metadata": {},
   "outputs": [],
   "source": [
    "# Same procedure to extract the metabolite read information \n",
    "# the second piece of important data\n",
    "sec_row_num = sec_row_end - sec_row_start\n",
    "column_num = len(df_rawdata.columns)\n",
    "df_metabolite = pd.DataFrame(index=range(sec_row_num),columns=range(column_num))\n",
    "count = 0\n",
    "for b in range (sec_row_start, sec_row_end):\n",
    "    df_metabolite.iloc[count] = df_rawdata.iloc[b]\n",
    "    count = count + 1\n",
    "display(df_metabolite)"
   ]
  },
  {
   "cell_type": "code",
   "execution_count": null,
   "id": "52144633",
   "metadata": {},
   "outputs": [],
   "source": [
    "# Get rid of any redundant columns (previous rows/data sections have info\n",
    "# in those columns but not here)\n",
    "df_metabolite = df_metabolite.drop(df_metabolite.columns[9:], axis=1)\n",
    "display (df_metabolite)"
   ]
  },
  {
   "cell_type": "code",
   "execution_count": null,
   "id": "640dd99f",
   "metadata": {},
   "outputs": [],
   "source": [
    "df_metabolite.to_csv('Processed_Metabolites_Data.csv') "
   ]
  },
  {
   "cell_type": "code",
   "execution_count": null,
   "id": "432eba99",
   "metadata": {},
   "outputs": [],
   "source": [
    "# For loops going through the columns on the row with symptom info\n",
    "# to identify which group the sample (each column)\n",
    "# belongs to, and store them\n",
    "severe_col = [0]\n",
    "mild_col = [0]\n",
    "asymptomatic_col = [0]\n",
    "for c in range (len(df_metabolites_ms.columns)):\n",
    "    if df_metabolites_ms.iloc[2,c] == 'Severity of Disease:Severe':\n",
    "        severe_col = np.append(severe_col,c)\n",
    "    if df_metabolites_ms.iloc[2,c] == 'Severity of Disease:Mild':\n",
    "        mild_col = np.append(mild_col,c)\n",
    "    if df_metabolites_ms.iloc[2,c] == 'Severity of Disease:Asymptomatic':\n",
    "        asymptomatic_col = np.append(asymptomatic_col,c)\n",
    "\n",
    "print(severe_col)\n",
    "print(mild_col)\n",
    "print(asymptomatic_col)"
   ]
  },
  {
   "cell_type": "code",
   "execution_count": null,
   "id": "7873768b",
   "metadata": {},
   "outputs": [],
   "source": [
    "# Create empty df with dimensions same to the corresponding patient symptom group df\n",
    "df_severe = pd.DataFrame(index=range(row_num),columns=range(len(severe_col)))\n",
    "df_mild = pd.DataFrame(index=range(row_num),columns=range(len(mild_col)))\n",
    "df_asymptomatic = pd.DataFrame(index=range(row_num),columns=range(len(asymptomatic_col)))\n",
    "\n",
    "# Function with inputs of original extracted \"processed metabolites ms df\",\n",
    "# empty df for that patient group, and the stored column numbers\n",
    "# output to generate new dataframe corresponding to different symptoms\n",
    "def sortbyseverity (df_ori, df_mod, col_nums):\n",
    "    count = 0\n",
    "    for e in range (len(col_nums)):\n",
    "        col_pos = int(col_nums[e])\n",
    "        df_mod.iloc[:,count] = df_ori.iloc[:,col_pos]\n",
    "        count = count+1\n",
    "    return df_mod\n",
    "\n",
    "df_severe_metabolite_ms = sortbyseverity(df_metabolites_ms,df_severe,severe_col)\n",
    "df_mild_metabolite_ms = sortbyseverity(df_metabolites_ms,df_mild,mild_col)\n",
    "df_asymptomatic_metabolite_ms = sortbyseverity(df_metabolites_ms,df_asymptomatic,asymptomatic_col)"
   ]
  },
  {
   "cell_type": "code",
   "execution_count": null,
   "id": "8e22e84c",
   "metadata": {},
   "outputs": [],
   "source": [
    "df_severe_metabolite_ms.to_csv('Processed_Severe_Metabolite_MS_Data.csv')\n",
    "df_mild_metabolite_ms.to_csv('Processed_Mild_Metabolite_MS_Data.csv')\n",
    "df_asymptomatic_metabolite_ms.to_csv('Processed_Asymptomatic_Metabolite_MS_Data.csv')"
   ]
  }
 ],
 "metadata": {
  "kernelspec": {
   "display_name": "Python 3 (ipykernel)",
   "language": "python",
   "name": "python3"
  },
  "language_info": {
   "codemirror_mode": {
    "name": "ipython",
    "version": 3
   },
   "file_extension": ".py",
   "mimetype": "text/x-python",
   "name": "python",
   "nbconvert_exporter": "python",
   "pygments_lexer": "ipython3",
   "version": "3.9.12"
  }
 },
 "nbformat": 4,
 "nbformat_minor": 5
}
